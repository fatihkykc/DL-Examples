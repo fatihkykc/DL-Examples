{
  "nbformat": 4,
  "nbformat_minor": 0,
  "metadata": {
    "accelerator": "GPU",
    "colab": {
      "name": "Medathon_Inference_Team#3.ipynb",
      "provenance": [],
      "collapsed_sections": []
    },
    "kernelspec": {
      "display_name": "Python 3",
      "language": "python",
      "name": "python3"
    },
    "language_info": {
      "codemirror_mode": {
        "name": "ipython",
        "version": 3
      },
      "file_extension": ".py",
      "mimetype": "text/x-python",
      "name": "python",
      "nbconvert_exporter": "python",
      "pygments_lexer": "ipython3",
      "version": "3.9.2"
    }
  },
  "cells": [
    {
      "cell_type": "code",
      "metadata": {
        "id": "9M6fbSGC3Afa"
      },
      "source": [
        "from pathlib import Path\n",
        "import pandas as pd\n",
        "import os\n",
        "from torch.utils.data import Dataset,DataLoader\n",
        "from PIL import Image\n",
        "from torchvision import transforms as T\n",
        "import torch.nn as nn\n",
        "import torch\n",
        "import torch.nn.functional as F\n",
        "from sklearn.model_selection import GroupKFold, KFold, StratifiedKFold\n",
        "from sklearn.model_selection import train_test_split\n",
        "import numpy as np\n",
        "from fastprogress.fastprogress import master_bar, progress_bar\n",
        "from sklearn.metrics import accuracy_score, roc_auc_score, f1_score\n",
        "from torchvision import models\n",
        "import pdb\n",
        "import albumentations as A\n",
        "from albumentations.pytorch.transforms import ToTensor\n",
        "import matplotlib.pyplot as plt\n",
        "import pickle"
      ],
      "execution_count": 3,
      "outputs": []
    },
    {
      "cell_type": "code",
      "metadata": {
        "id": "h4rfUxBh3Guv"
      },
      "source": [
        "# !pip install efficientnet_pytorch\n",
        "# !pip install densenet_pytorch\n",
        "# !pip install resnet_pytorch"
      ],
      "execution_count": 5,
      "outputs": []
    },
    {
      "cell_type": "code",
      "metadata": {
        "id": "TYO66vDg3F8T"
      },
      "source": [
        "from efficientnet_pytorch import EfficientNet\n",
        "from densenet_pytorch import DenseNet \n",
        "from resnet_pytorch import ResNet "
      ],
      "execution_count": 6,
      "outputs": []
    },
    {
      "cell_type": "code",
      "metadata": {
        "id": "B70zno8OdyZi"
      },
      "source": [
        "models_path = '/content/drive/MyDrive/MedathonModels/'"
      ],
      "execution_count": 16,
      "outputs": []
    },
    {
      "cell_type": "code",
      "metadata": {
        "id": "L1O1m5MQ38TF"
      },
      "source": [
        "def get_model(model_name='efficientnet-b0',lr=1e-5,wd=0.01,freeze_backbone=False,opt_fn=torch.optim.AdamW,device=None):\n",
        "    if device is None:\n",
        "        device = torch.device(\"cuda\") if torch.cuda.is_available() else torch.device(\"cpu\")\n",
        "    if model_name.startswith('dense'):\n",
        "        model = MedathonDenseNet(model_name=model_name)\n",
        "    elif model_name.startswith('eff'):\n",
        "        model = MedathonEfficientNet(model_name=model_name)\n",
        "    elif model_name.startswith('res'):\n",
        "        model = MedathonResNet(model_name=model_name)\n",
        "    if freeze_backbone:\n",
        "        for parameter in model.backbone.parameters():\n",
        "            parameter.requires_grad = False\n",
        "    opt = opt_fn(model.parameters(),lr=lr,weight_decay=wd)\n",
        "    model = model.to(device)\n",
        "    return model, opt"
      ],
      "execution_count": 8,
      "outputs": []
    },
    {
      "cell_type": "code",
      "metadata": {
        "id": "jN75AsLC4Aht"
      },
      "source": [
        "class MedathonEfficientNet(nn.Module):\n",
        "    def __init__(self,model_name='efficientnet-b0',pool_type=F.adaptive_avg_pool2d):\n",
        "        super().__init__()\n",
        "        self.pool_type = pool_type\n",
        "        self.backbone = EfficientNet.from_pretrained(model_name)\n",
        "        in_features = getattr(self.backbone,'_fc').in_features\n",
        "        self.classifier = nn.Linear(in_features,1)\n",
        "\n",
        "    def forward(self,x):\n",
        "        features = self.pool_type(self.backbone.extract_features(x),1)\n",
        "        features = features.view(x.size(0),-1)\n",
        "        return self.classifier(features)\n",
        "    \n",
        "class MedathonDenseNet(nn.Module):\n",
        "    def __init__(self,model_name='densenet121',pool_type=F.adaptive_avg_pool2d):\n",
        "        super().__init__()\n",
        "        self.pool_type = pool_type\n",
        "        # self.backbone = EfficientNet.from_pretrained(model_name)\n",
        "        self.backbone = DenseNet.from_pretrained(model_name)\n",
        "        in_features = getattr(self.backbone,'classifier').in_features\n",
        "        self.classifier = nn.Linear(in_features,1)\n",
        "\n",
        "    def forward(self,x):\n",
        "        features = self.pool_type(self.backbone.extract_features(x),1)\n",
        "        features = features.view(x.size(0),-1)\n",
        "        return self.classifier(features)\n",
        "    \n",
        "class MedathonResNet(nn.Module):\n",
        "    def __init__(self,model_name='resnet18',pool_type=F.adaptive_avg_pool2d):\n",
        "        super().__init__()\n",
        "        self.pool_type = pool_type\n",
        "        # self.backbone = EfficientNet.from_pretrained(model_name)\n",
        "        self.backbone = ResNet.from_pretrained(model_name)\n",
        "        in_features = getattr(self.backbone,'fc').in_features\n",
        "        self.classifier = nn.Linear(in_features,1)\n",
        "\n",
        "    def forward(self,x):\n",
        "        features = self.pool_type(self.backbone.extract_features(x),1)\n",
        "        features = features.view(x.size(0),-1)\n",
        "        return self.classifier(features)"
      ],
      "execution_count": 9,
      "outputs": []
    },
    {
      "cell_type": "code",
      "metadata": {
        "id": "NwcdahPWwmGY"
      },
      "source": [
        "def get_augs_test(p,height,width):\n",
        "#     p=0.5\n",
        "    test_tfms = A.Compose([\n",
        "        A.Resize(height, width),\n",
        "        A.RandomRotate90(p=p),\n",
        "            A.Flip(p=p),\n",
        "            A.OneOf([\n",
        "                A.RandomBrightnessContrast(brightness_limit=0.2,\n",
        "                                           contrast_limit=0.2,\n",
        "                                           ),\n",
        "                A.HueSaturationValue(\n",
        "                    hue_shift_limit=20,\n",
        "                    sat_shift_limit=50,\n",
        "                    val_shift_limit=50)\n",
        "            ], p=p),\n",
        "            A.OneOf([\n",
        "                A.IAAAdditiveGaussianNoise(),\n",
        "                A.GaussNoise(),\n",
        "            ], p=p),\n",
        "#         ToTensor(normalize=imagenet_stats)\n",
        "        ])\n",
        "    return test_tfms"
      ],
      "execution_count": 10,
      "outputs": []
    },
    {
      "cell_type": "code",
      "metadata": {
        "id": "nuWNfkDhC8Be"
      },
      "source": [
        "class MedathonDataset(Dataset):\n",
        "    def __init__(self,im_path,transforms=None,is_test=False):\n",
        "        # self.df = df\n",
        "        self.im_path = im_path\n",
        "        self.transforms = transforms\n",
        "        self.is_test = is_test\n",
        "        \n",
        "    def __getitem__(self,idx):\n",
        "        img_path = f\"{self.im_path}\"\n",
        "        img = Image.open(img_path).convert(\"RGB\")\n",
        "        if self.transforms:\n",
        "                img = self.transforms(image=np.array(img))[\"image\"]\n",
        "        if self.is_test:\n",
        "            return img\n",
        "        # target = self.df.iloc[idx]['label']\n",
        "        # return img, torch.tensor([target],dtype=torch.float32)\n",
        "    \n",
        "    def __len__(self):\n",
        "        # return self.df.shape[0]\n",
        "        return 1"
      ],
      "execution_count": 11,
      "outputs": []
    },
    {
      "cell_type": "code",
      "metadata": {
        "id": "e6LGT9vnCwtY"
      },
      "source": [
        "# test_df = pd.DataFrame({\"filename\":os.listdir('muradatavalid')})\n",
        "# test_df[\"label\"] = test_df[\"filename\"].apply(lambda x: int(x[0]))\n",
        "# test_df.to_csv('valid.csv', index=False)"
      ],
      "execution_count": null,
      "outputs": []
    },
    {
      "cell_type": "code",
      "metadata": {
        "id": "JKl3ij0TDZCk"
      },
      "source": [
        "def get_preds(model,test_ds, test_dl, device=None,tta=1):\n",
        "    if device is None:\n",
        "        device = torch.device(\"cuda\") if torch.cuda.is_available() else torch.device(\"cpu\")\n",
        "    preds = np.zeros(len(test_ds))\n",
        "    for tta_id in range(tta):\n",
        "        test_preds = []\n",
        "        model.eval()\n",
        "        with torch.no_grad():\n",
        "            for xb in test_dl:\n",
        "                xb = xb.to(device)\n",
        "                out = model(xb.permute(0,3,1,2).float())\n",
        "                out = torch.sigmoid(out)\n",
        "                test_preds.extend(out.cpu().numpy())\n",
        "            preds += np.array(test_preds).reshape(-1)\n",
        "        # print(f'TTA {tta_id}')\n",
        "    preds /= tta\n",
        "    return preds"
      ],
      "execution_count": 12,
      "outputs": []
    },
    {
      "cell_type": "code",
      "metadata": {
        "id": "hxDjVL7sCtlg"
      },
      "source": [
        "def predict_image_class(file_path: str, models, weights, sizes) -> str:\n",
        "    \"\"\"\"\n",
        "    Yarışmacıların Doldurması gereken fonksiyon.\n",
        "    \"\"\"\n",
        "    #TODO:\n",
        "    #all preprocessing & inference steps\n",
        "\n",
        "    preds=[]\n",
        "    for i, model in enumerate(models):\n",
        "        test_ds = MedathonDataset(im_path=file_path, transforms=get_augs_test(p=0.5, height=sizes[i],width=sizes[i]),is_test=True)\n",
        "        test_dl = DataLoader(dataset=test_ds, batch_size=1, shuffle=False, num_workers=1)\n",
        "        preds.append(get_preds(model, test_ds, test_dl, tta=8))\n",
        "    pred = np.sum([preds[i]*weights[i] for i in range(len(models))])\n",
        "    if pred<0.5: \n",
        "        return 'normal'\n",
        "    else:\n",
        "        return 'anormal'"
      ],
      "execution_count": 13,
      "outputs": []
    },
    {
      "cell_type": "code",
      "metadata": {
        "id": "O5B2TnjnCswG"
      },
      "source": [
        "import glob\n",
        "import os\n",
        "from pathlib import Path\n",
        "device = torch.device(\"cuda\") if torch.cuda.is_available() else torch.device(\"cpu\")\n",
        "def test(folder_path):\n",
        "    dense121model, dense121opt = get_model(model_name='densenet121',lr=1e-4,wd=1e-4)\n",
        "    dense121model.load_state_dict(torch.load(f'{models_path}densenet121_BCEWithLogits_10_0.9453735494127344_224-224_102_-1.pth',map_location=device))\n",
        "    effnet3model, effnet3opt = get_model(model_name='efficientnet-b3',lr=1e-4,wd=1e-4)\n",
        "    effnet3model.load_state_dict(torch.load(f'{models_path}efficientnet-b3_BCEWithLogits_10_0.9305413142769728_256-256_28_-1.pth',map_location=device))\n",
        "    resnet18model, resnet18eopt = get_model(model_name='resnet18',lr=1e-4,wd=1e-4)\n",
        "    resnet18model.load_state_dict(torch.load(f'{models_path}resnet18_BCEWithLogits_10_0.9164495022403869_512-512_32_-1.pth',map_location=device))\n",
        "    labels = []\n",
        "    predictions = []\n",
        "    # for image_path in glob.glob(\"{}/*\".format(test_dir)):\n",
        "    for image_path in glob.glob(\"{}/*/*g\".format(test_dir)):\n",
        "        # Image label from directory name.\n",
        "        # For example image_path: dandelion/a.jpg label: dandelion\n",
        "        label = Path(image_path).parent.stem\n",
        "        # label = \"normal\" if int(image_path.split('/')[-1][0])==0 else \"anormal\"\n",
        "        \n",
        "        # Predict Image Class \n",
        "        prediction = predict_image_class(str(image_path),\n",
        "                                             models=[resnet18model, dense121model, effnet3model],\n",
        "                                             weights=[0.45,0.40,0.15],\n",
        "                                             sizes=[512,224,256])\n",
        "#         print(image_path.split('/')[-1], prediction)\n",
        "        # Save Predicted and Real label.\n",
        "        predictions.append(prediction)\n",
        "        labels.append(label)\n",
        "        # print(f\"label: {label}, pred: {prediction})\")\n",
        "    return labels, predictions\n",
        "\n",
        "test_dir='/content/drive/MyDrive/muradatavalid' #TODO:\n",
        "\n",
        "print(test_dir)\n",
        "y_true, y_pred = test(test_dir)"
      ],
      "execution_count": null,
      "outputs": []
    },
    {
      "cell_type": "code",
      "metadata": {
        "id": "Z-Drv4RbdmY0"
      },
      "source": [
        "from sklearn.metrics import classification_report\n",
        "print(classification_report(y_true, y_pred))"
      ],
      "execution_count": null,
      "outputs": []
    }
  ]
}