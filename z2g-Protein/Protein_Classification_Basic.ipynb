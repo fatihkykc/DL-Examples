{
  "nbformat": 4,
  "nbformat_minor": 0,
  "metadata": {
    "kernelspec": {
      "language": "python",
      "display_name": "Python 3",
      "name": "python3"
    },
    "language_info": {
      "pygments_lexer": "ipython3",
      "nbconvert_exporter": "python",
      "version": "3.6.4",
      "file_extension": ".py",
      "codemirror_mode": {
        "name": "ipython",
        "version": 3
      },
      "name": "python",
      "mimetype": "text/x-python"
    },
    "colab": {
      "name": "Protein_Classification_Basic.ipynb",
      "provenance": [],
      "toc_visible": true
    },
    "accelerator": "GPU",
    "widgets": {
      "application/vnd.jupyter.widget-state+json": {
        "22757098c4ed4bf58b08eb47af966eb2": {
          "model_module": "@jupyter-widgets/controls",
          "model_name": "HBoxModel",
          "state": {
            "_view_name": "HBoxView",
            "_dom_classes": [],
            "_model_name": "HBoxModel",
            "_view_module": "@jupyter-widgets/controls",
            "_model_module_version": "1.5.0",
            "_view_count": null,
            "_view_module_version": "1.5.0",
            "box_style": "",
            "layout": "IPY_MODEL_2ce04b872e144ea08b3360b188e12f49",
            "_model_module": "@jupyter-widgets/controls",
            "children": [
              "IPY_MODEL_15fba682b4eb4ba88fb07c166f07db5c",
              "IPY_MODEL_d9982441556f4797a9bc3b30ad067ad1"
            ]
          }
        },
        "2ce04b872e144ea08b3360b188e12f49": {
          "model_module": "@jupyter-widgets/base",
          "model_name": "LayoutModel",
          "state": {
            "_view_name": "LayoutView",
            "grid_template_rows": null,
            "right": null,
            "justify_content": null,
            "_view_module": "@jupyter-widgets/base",
            "overflow": null,
            "_model_module_version": "1.2.0",
            "_view_count": null,
            "flex_flow": null,
            "width": null,
            "min_width": null,
            "border": null,
            "align_items": null,
            "bottom": null,
            "_model_module": "@jupyter-widgets/base",
            "top": null,
            "grid_column": null,
            "overflow_y": null,
            "overflow_x": null,
            "grid_auto_flow": null,
            "grid_area": null,
            "grid_template_columns": null,
            "flex": null,
            "_model_name": "LayoutModel",
            "justify_items": null,
            "grid_row": null,
            "max_height": null,
            "align_content": null,
            "visibility": null,
            "align_self": null,
            "height": null,
            "min_height": null,
            "padding": null,
            "grid_auto_rows": null,
            "grid_gap": null,
            "max_width": null,
            "order": null,
            "_view_module_version": "1.2.0",
            "grid_template_areas": null,
            "object_position": null,
            "object_fit": null,
            "grid_auto_columns": null,
            "margin": null,
            "display": null,
            "left": null
          }
        },
        "15fba682b4eb4ba88fb07c166f07db5c": {
          "model_module": "@jupyter-widgets/controls",
          "model_name": "FloatProgressModel",
          "state": {
            "_view_name": "ProgressView",
            "style": "IPY_MODEL_49bdba49399442a282740008bc158b18",
            "_dom_classes": [],
            "description": "  0%",
            "_model_name": "FloatProgressModel",
            "bar_style": "danger",
            "max": 1082,
            "_view_module": "@jupyter-widgets/controls",
            "_model_module_version": "1.5.0",
            "value": 0,
            "_view_count": null,
            "_view_module_version": "1.5.0",
            "orientation": "horizontal",
            "min": 0,
            "description_tooltip": null,
            "_model_module": "@jupyter-widgets/controls",
            "layout": "IPY_MODEL_f08bd7c9c52b4463ac9d2ceb1e8b8538"
          }
        },
        "d9982441556f4797a9bc3b30ad067ad1": {
          "model_module": "@jupyter-widgets/controls",
          "model_name": "HTMLModel",
          "state": {
            "_view_name": "HTMLView",
            "style": "IPY_MODEL_0a46f414af86469fbcf81670fc280f64",
            "_dom_classes": [],
            "description": "",
            "_model_name": "HTMLModel",
            "placeholder": "​",
            "_view_module": "@jupyter-widgets/controls",
            "_model_module_version": "1.5.0",
            "value": " 0/1082 [00:01&lt;?, ?it/s]",
            "_view_count": null,
            "_view_module_version": "1.5.0",
            "description_tooltip": null,
            "_model_module": "@jupyter-widgets/controls",
            "layout": "IPY_MODEL_e4f982b4b8454a2e96669824a277f3ab"
          }
        },
        "49bdba49399442a282740008bc158b18": {
          "model_module": "@jupyter-widgets/controls",
          "model_name": "ProgressStyleModel",
          "state": {
            "_view_name": "StyleView",
            "_model_name": "ProgressStyleModel",
            "description_width": "initial",
            "_view_module": "@jupyter-widgets/base",
            "_model_module_version": "1.5.0",
            "_view_count": null,
            "_view_module_version": "1.2.0",
            "bar_color": null,
            "_model_module": "@jupyter-widgets/controls"
          }
        },
        "f08bd7c9c52b4463ac9d2ceb1e8b8538": {
          "model_module": "@jupyter-widgets/base",
          "model_name": "LayoutModel",
          "state": {
            "_view_name": "LayoutView",
            "grid_template_rows": null,
            "right": null,
            "justify_content": null,
            "_view_module": "@jupyter-widgets/base",
            "overflow": null,
            "_model_module_version": "1.2.0",
            "_view_count": null,
            "flex_flow": null,
            "width": null,
            "min_width": null,
            "border": null,
            "align_items": null,
            "bottom": null,
            "_model_module": "@jupyter-widgets/base",
            "top": null,
            "grid_column": null,
            "overflow_y": null,
            "overflow_x": null,
            "grid_auto_flow": null,
            "grid_area": null,
            "grid_template_columns": null,
            "flex": null,
            "_model_name": "LayoutModel",
            "justify_items": null,
            "grid_row": null,
            "max_height": null,
            "align_content": null,
            "visibility": null,
            "align_self": null,
            "height": null,
            "min_height": null,
            "padding": null,
            "grid_auto_rows": null,
            "grid_gap": null,
            "max_width": null,
            "order": null,
            "_view_module_version": "1.2.0",
            "grid_template_areas": null,
            "object_position": null,
            "object_fit": null,
            "grid_auto_columns": null,
            "margin": null,
            "display": null,
            "left": null
          }
        },
        "0a46f414af86469fbcf81670fc280f64": {
          "model_module": "@jupyter-widgets/controls",
          "model_name": "DescriptionStyleModel",
          "state": {
            "_view_name": "StyleView",
            "_model_name": "DescriptionStyleModel",
            "description_width": "",
            "_view_module": "@jupyter-widgets/base",
            "_model_module_version": "1.5.0",
            "_view_count": null,
            "_view_module_version": "1.2.0",
            "_model_module": "@jupyter-widgets/controls"
          }
        },
        "e4f982b4b8454a2e96669824a277f3ab": {
          "model_module": "@jupyter-widgets/base",
          "model_name": "LayoutModel",
          "state": {
            "_view_name": "LayoutView",
            "grid_template_rows": null,
            "right": null,
            "justify_content": null,
            "_view_module": "@jupyter-widgets/base",
            "overflow": null,
            "_model_module_version": "1.2.0",
            "_view_count": null,
            "flex_flow": null,
            "width": null,
            "min_width": null,
            "border": null,
            "align_items": null,
            "bottom": null,
            "_model_module": "@jupyter-widgets/base",
            "top": null,
            "grid_column": null,
            "overflow_y": null,
            "overflow_x": null,
            "grid_auto_flow": null,
            "grid_area": null,
            "grid_template_columns": null,
            "flex": null,
            "_model_name": "LayoutModel",
            "justify_items": null,
            "grid_row": null,
            "max_height": null,
            "align_content": null,
            "visibility": null,
            "align_self": null,
            "height": null,
            "min_height": null,
            "padding": null,
            "grid_auto_rows": null,
            "grid_gap": null,
            "max_width": null,
            "order": null,
            "_view_module_version": "1.2.0",
            "grid_template_areas": null,
            "object_position": null,
            "object_fit": null,
            "grid_auto_columns": null,
            "margin": null,
            "display": null,
            "left": null
          }
        }
      }
    }
  },
  "cells": [
    {
      "cell_type": "code",
      "metadata": {
        "trusted": true,
        "id": "vqIBWdStmipO"
      },
      "source": [
        "%reload_ext autoreload\n",
        "%autoreload 2\n",
        "%matplotlib inline"
      ],
      "execution_count": null,
      "outputs": []
    },
    {
      "cell_type": "code",
      "metadata": {
        "_uuid": "8f2839f25d086af736a60e9eeb907d3b93b6e0e5",
        "_cell_guid": "b1076dfc-b9ad-4769-8c92-a6c4dae69d19",
        "trusted": true,
        "id": "ufa1g_rjmipS"
      },
      "source": [
        "import matplotlib.pyplot as plt\n",
        "import numpy as np\n",
        "import os\n",
        "import pandas as pd\n",
        "import random\n",
        "from PIL import Image\n",
        "from tqdm.notebook import tqdm\n",
        "\n",
        "import torch\n",
        "import torch.nn as nn\n",
        "import torch.nn.functional as F\n",
        "from torch.utils.data import Dataset, random_split, DataLoader\n",
        "\n",
        "import torchvision.models as models\n",
        "import torchvision.transforms as transforms\n",
        "from torchvision.utils import make_grid"
      ],
      "execution_count": null,
      "outputs": []
    },
    {
      "cell_type": "code",
      "metadata": {
        "_uuid": "d629ff2d2480ee46fbb7e2d37f6b5fab8052498a",
        "_cell_guid": "79c7e3d0-c299-4dcb-8224-4455121ee9b0",
        "trusted": true,
        "id": "1_a0lgEimipV"
      },
      "source": [
        "DATA_DIR = '/content/Human protein atlas'\n",
        "\n",
        "TRAIN_DIR = DATA_DIR + '/train'                           # Contains training images\n",
        "TEST_DIR = DATA_DIR + '/test'                             # Contains test images\n",
        "\n",
        "TRAIN_CSV = DATA_DIR + '/train.csv'                       # Contains real labels for training images\n",
        "TEST_CSV = '/content/submission.csv'   # Contains dummy labels for test image"
      ],
      "execution_count": null,
      "outputs": []
    },
    {
      "cell_type": "markdown",
      "metadata": {
        "id": "QPmMvW0PmipZ"
      },
      "source": [
        "# Data Loading and some helper functions"
      ]
    },
    {
      "cell_type": "code",
      "metadata": {
        "trusted": true,
        "id": "n3VGKotkmipZ",
        "colab": {
          "base_uri": "https://localhost:8080/",
          "height": 204
        },
        "outputId": "b7c2b261-ce3d-4911-812b-1fcd49f3da42"
      },
      "source": [
        "train_df = pd.read_csv(TRAIN_CSV)\n",
        "train_df.head()"
      ],
      "execution_count": null,
      "outputs": [
        {
          "output_type": "execute_result",
          "data": {
            "text/html": [
              "<div>\n",
              "<style scoped>\n",
              "    .dataframe tbody tr th:only-of-type {\n",
              "        vertical-align: middle;\n",
              "    }\n",
              "\n",
              "    .dataframe tbody tr th {\n",
              "        vertical-align: top;\n",
              "    }\n",
              "\n",
              "    .dataframe thead th {\n",
              "        text-align: right;\n",
              "    }\n",
              "</style>\n",
              "<table border=\"1\" class=\"dataframe\">\n",
              "  <thead>\n",
              "    <tr style=\"text-align: right;\">\n",
              "      <th></th>\n",
              "      <th>Image</th>\n",
              "      <th>Label</th>\n",
              "    </tr>\n",
              "  </thead>\n",
              "  <tbody>\n",
              "    <tr>\n",
              "      <th>0</th>\n",
              "      <td>19567</td>\n",
              "      <td>9</td>\n",
              "    </tr>\n",
              "    <tr>\n",
              "      <th>1</th>\n",
              "      <td>29993</td>\n",
              "      <td>6 4</td>\n",
              "    </tr>\n",
              "    <tr>\n",
              "      <th>2</th>\n",
              "      <td>17186</td>\n",
              "      <td>1 4</td>\n",
              "    </tr>\n",
              "    <tr>\n",
              "      <th>3</th>\n",
              "      <td>29600</td>\n",
              "      <td>6 2</td>\n",
              "    </tr>\n",
              "    <tr>\n",
              "      <th>4</th>\n",
              "      <td>701</td>\n",
              "      <td>3 4</td>\n",
              "    </tr>\n",
              "  </tbody>\n",
              "</table>\n",
              "</div>"
            ],
            "text/plain": [
              "   Image Label\n",
              "0  19567     9\n",
              "1  29993   6 4\n",
              "2  17186   1 4\n",
              "3  29600   6 2\n",
              "4    701   3 4"
            ]
          },
          "metadata": {
            "tags": []
          },
          "execution_count": 5
        }
      ]
    },
    {
      "cell_type": "code",
      "metadata": {
        "trusted": true,
        "id": "k0fd3bGdmipc"
      },
      "source": [
        "labels = {\n",
        "    0: 'Mitochondria',\n",
        "    1: 'Nuclear bodies',\n",
        "    2: 'Nucleoli',\n",
        "    3: 'Golgi apparatus',\n",
        "    4: 'Nucleoplasm',\n",
        "    5: 'Nucleoli fibrillar center',\n",
        "    6: 'Cytosol',\n",
        "    7: 'Plasma membrane',\n",
        "    8: 'Centrosome',\n",
        "    9: 'Nuclear speckles'\n",
        "}"
      ],
      "execution_count": null,
      "outputs": []
    },
    {
      "cell_type": "code",
      "metadata": {
        "trusted": true,
        "id": "1N_CsR4_mipf"
      },
      "source": [
        "rev_labels = dict()\n",
        "for key in labels.keys():\n",
        "    rev_labels[labels[key]] = key"
      ],
      "execution_count": null,
      "outputs": []
    },
    {
      "cell_type": "code",
      "metadata": {
        "trusted": true,
        "id": "LZ85vcsPmipj",
        "colab": {
          "base_uri": "https://localhost:8080/",
          "height": 187
        },
        "outputId": "0fb0c485-45d1-441f-fbe5-0cc18d0a671b"
      },
      "source": [
        "rev_labels"
      ],
      "execution_count": null,
      "outputs": [
        {
          "output_type": "execute_result",
          "data": {
            "text/plain": [
              "{'Centrosome': 8,\n",
              " 'Cytosol': 6,\n",
              " 'Golgi apparatus': 3,\n",
              " 'Mitochondria': 0,\n",
              " 'Nuclear bodies': 1,\n",
              " 'Nuclear speckles': 9,\n",
              " 'Nucleoli': 2,\n",
              " 'Nucleoli fibrillar center': 5,\n",
              " 'Nucleoplasm': 4,\n",
              " 'Plasma membrane': 7}"
            ]
          },
          "metadata": {
            "tags": []
          },
          "execution_count": 8
        }
      ]
    },
    {
      "cell_type": "code",
      "metadata": {
        "trusted": true,
        "id": "l2X0lh1rmipn"
      },
      "source": [
        "def num_to_name(labels):\n",
        "    return [labels[i] for i in labels]"
      ],
      "execution_count": null,
      "outputs": []
    },
    {
      "cell_type": "code",
      "metadata": {
        "trusted": true,
        "id": "Cs2A8Dohmipq"
      },
      "source": [
        "def name_to_num(labels):\n",
        "    return [rev_labels[i] for i in labels]"
      ],
      "execution_count": null,
      "outputs": []
    },
    {
      "cell_type": "code",
      "metadata": {
        "trusted": true,
        "id": "1s7FlM8Lmipt"
      },
      "source": [
        "def set_seed(seed):\n",
        "    random.seed(seed)\n",
        "    os.environ['PYTHONHASHSEED'] = str(seed)\n",
        "    np.random.seed(seed)\n",
        "    torch.manual_seed(seed)\n",
        "    torch.cuda.manual_seed(seed)\n",
        "    torch.backends.cudnn.deterministic = True"
      ],
      "execution_count": null,
      "outputs": []
    },
    {
      "cell_type": "code",
      "metadata": {
        "trusted": true,
        "id": "U7Lpqx6Omipw"
      },
      "source": [
        "device = 'cuda' if torch.cuda.is_available() else 'cpu'"
      ],
      "execution_count": null,
      "outputs": []
    },
    {
      "cell_type": "code",
      "metadata": {
        "trusted": true,
        "id": "8mlWJ6VBmipz"
      },
      "source": [
        "set_seed(17)"
      ],
      "execution_count": null,
      "outputs": []
    },
    {
      "cell_type": "code",
      "metadata": {
        "trusted": true,
        "id": "HNmIl54dmip2"
      },
      "source": [
        "def encode_labels(label):\n",
        "    target = torch.zeros(10)\n",
        "    for l in str(label).split(' '):\n",
        "        target[int(l)] = 1.\n",
        "    return target"
      ],
      "execution_count": null,
      "outputs": []
    },
    {
      "cell_type": "code",
      "metadata": {
        "trusted": true,
        "id": "Bjd4tdKmmip4"
      },
      "source": [
        "def decode_labels(target, thresh=0.5, return_label=False):\n",
        "    result = []\n",
        "    for i, tgt in enumerate(target):\n",
        "        if tgt > thresh:\n",
        "            if return_label:\n",
        "                result.append(str(i) + \":\" + labels[i] + \"/\")\n",
        "            else:\n",
        "                result.append(str(i))\n",
        "            \n",
        "    return result"
      ],
      "execution_count": null,
      "outputs": []
    },
    {
      "cell_type": "markdown",
      "metadata": {
        "id": "LrAYJr-bmip7"
      },
      "source": [
        "# Display Images"
      ]
    },
    {
      "cell_type": "code",
      "metadata": {
        "trusted": true,
        "id": "LJL8xzf4mip8"
      },
      "source": [
        "class UnNormalize(object):\n",
        "    def __init__(self, mean, std):\n",
        "        self.mean = mean\n",
        "        self.std = std\n",
        "\n",
        "    def __call__(self, tensor):\n",
        "        \"\"\"\n",
        "        Args:\n",
        "            tensor (Tensor): Tensor image of size (C, H, W) to be normalized.\n",
        "        Returns:\n",
        "            Tensor: Normalized image.\n",
        "        \"\"\"\n",
        "        for t, m, s in zip(tensor, self.mean, self.std):\n",
        "            t.mul_(s).add_(m)\n",
        "        return tensor"
      ],
      "execution_count": null,
      "outputs": []
    },
    {
      "cell_type": "code",
      "metadata": {
        "trusted": true,
        "id": "hS7gEDNXmip-"
      },
      "source": [
        "def display_img(img, label=None, unnorm=False, unnorm_obj=None, invert=True, return_label=True):\n",
        "    if unnorm and unnorm_obj != None:\n",
        "        img = unnorm_obj(img)\n",
        "    \n",
        "    if invert:\n",
        "        plt.imshow(1 - img.permute((1, 2, 0)))\n",
        "    else:\n",
        "        plt.imshow(img.permute(1, 2, 0))\n",
        "    \n",
        "    if label != None:\n",
        "        plt.title(decode_labels(label, return_label=return_label))"
      ],
      "execution_count": null,
      "outputs": []
    },
    {
      "cell_type": "code",
      "metadata": {
        "trusted": true,
        "id": "ljREhBk8miqB"
      },
      "source": [
        "def display_batch(batch, unnorm=False, unnorm_obj=None, invert=True):    \n",
        "    imgs, labels = batch\n",
        "    \n",
        "    if unnorm and unnorm_obj:\n",
        "        unnorm_imgs = []\n",
        "        for img in imgs:\n",
        "            if invert:\n",
        "                unnorm_imgs.append(1 - unnorm_obj(img))\n",
        "            else:\n",
        "                unnorm_imgs.append(unnorm_obj(img))\n",
        "        imgs = unnorm_imgs\n",
        "    else:\n",
        "        if invert:\n",
        "            imgs = 1 - imgs\n",
        "    \n",
        "    ig, ax = plt.subplots(figsize=(16, 8))\n",
        "    ax.set_xticks([]); ax.set_yticks([])\n",
        "    ax.imshow(make_grid(imgs, nrow=16).permute(1, 2, 0))"
      ],
      "execution_count": null,
      "outputs": []
    },
    {
      "cell_type": "markdown",
      "metadata": {
        "id": "_sVb3KhImiqE"
      },
      "source": [
        "# Dataset"
      ]
    },
    {
      "cell_type": "code",
      "metadata": {
        "trusted": true,
        "id": "O-Jyf7sAmiqF"
      },
      "source": [
        "class ProteinDataset(nn.Module):\n",
        "    def __init__(self, root_dir, label_df, transforms=None):\n",
        "        assert(os.path.exists(root_dir))\n",
        "        self.root_dir = root_dir\n",
        "        self.label_df = label_df\n",
        "        self.transforms = transforms\n",
        "        \n",
        "    def __len__(self):\n",
        "        return len(self.label_df)\n",
        "    \n",
        "    def __getitem__(self, idx):\n",
        "        row = self.label_df.loc[idx]\n",
        "        img_id, label = row['Image'], row['Label']\n",
        "        img = Image.open(self.root_dir + \"/\" + str(img_id) + \".png\")\n",
        "        if self.transforms:\n",
        "            img = self.transforms(img)\n",
        "        return img, encode_labels(label)"
      ],
      "execution_count": null,
      "outputs": []
    },
    {
      "cell_type": "code",
      "metadata": {
        "trusted": true,
        "id": "aR_rv51_miqH",
        "colab": {
          "base_uri": "https://localhost:8080/",
          "height": 69
        },
        "outputId": "a3fd233c-c956-42d9-8e62-3b54100ff8bb"
      },
      "source": [
        "'''\n",
        "This code can be used to get mean and std of dataset\n",
        "\n",
        "mean = 0.\n",
        "std = 0.\n",
        "nb_samples = 0.\n",
        "for imgs, _ in loader:\n",
        "    batch_samples = imgs.size(0)\n",
        "    imgs = imgs.view(batch_samples, imgs.size(1), -1)\n",
        "    mean += imgs.mean(2).sum(0)\n",
        "    std += imgs.std(2).sum(0)\n",
        "    nb_samples += batch_samples\n",
        "\n",
        "mean /= nb_samples\n",
        "std /= nb_samples\n",
        "'''"
      ],
      "execution_count": null,
      "outputs": [
        {
          "output_type": "execute_result",
          "data": {
            "application/vnd.google.colaboratory.intrinsic": {
              "type": "string"
            },
            "text/plain": [
              "'\\nThis code can be used to get mean and std of dataset\\n\\nmean = 0.\\nstd = 0.\\nnb_samples = 0.\\nfor imgs, _ in loader:\\n    batch_samples = imgs.size(0)\\n    imgs = imgs.view(batch_samples, imgs.size(1), -1)\\n    mean += imgs.mean(2).sum(0)\\n    std += imgs.std(2).sum(0)\\n    nb_samples += batch_samples\\n\\nmean /= nb_samples\\nstd /= nb_samples\\n'"
            ]
          },
          "metadata": {
            "tags": []
          },
          "execution_count": 20
        }
      ]
    },
    {
      "cell_type": "code",
      "metadata": {
        "id": "Y5og3QSKudED"
      },
      "source": [
        "# x=[]\n",
        "# y=[]\n",
        "# random_crop = transforms.RandomCrop(512, padding=8, padding_mode='reflect')\n",
        "# rotation = transforms.RandomRotation(45)\n",
        "# hflip = transforms.RandomHorizontalFlip()\n",
        "# vflip = transforms.RandomVerticalFlip()\n",
        "# from PIL import Image, ImageFilter, ImageOps\n",
        "# import torchvision.transforms.functional as TF\n",
        "\n",
        "# IMG_SIZE = 512\n",
        "\n",
        "# for ls in train_df['Label']:\n",
        "#     label = ls\n",
        "\n",
        "#     for image_file in os.listdir(TRAIN_DIR):\n",
        "#         image = Image.open(TRAIN_DIR + \"/\" + image_file)\n",
        "\n",
        "#         x.append(random_crop(image))\n",
        "#         y.append(label)\n",
        "\n",
        "#         x.append(rotation(image))\n",
        "#         y.append(label)\n",
        "\n",
        "#         x.append(random_crop(image.rotate(random.uniform(-45, 45))))\n",
        "#         y.append(label)\n",
        "\n",
        "#         x.append(TRA.adjust_brightness(image, random.random()))\n",
        "#         y.append(label)\n",
        "\n",
        "#         x.append(TF.adjust_brightness(image, random.random() + 1))\n",
        "#         y.append(label)\n",
        "\n",
        "#         x.append(image.filter(ImageFilter.BLUR))\n",
        "#         y.append(label)\n",
        "\n",
        "#         x.append(image.transpose(Image.FLIP_LEFT_RIGHT))\n",
        "#         y.append(label)\n",
        "\n",
        "# x, y = shuffle(x, y, random_state=42)"
      ],
      "execution_count": null,
      "outputs": []
    },
    {
      "cell_type": "code",
      "metadata": {
        "trusted": true,
        "id": "dM4kjr-qmiqK"
      },
      "source": [
        "mean = [0.0793, 0.0530, 0.0545]\n",
        "std = [0.1290, 0.0886, 0.1376]"
      ],
      "execution_count": null,
      "outputs": []
    },
    {
      "cell_type": "code",
      "metadata": {
        "trusted": true,
        "id": "DEDQ-O_gmiqN"
      },
      "source": [
        "from PIL import Image, ImageFilter, ImageOps\n",
        "normalize = transforms.Normalize(mean=mean, std=std)\n",
        "\n",
        "train_tf = transforms.Compose([\n",
        "    transforms.RandomCrop(512),\n",
        "    transforms.RandomResizedCrop(256, scale=(0.5,0.9), ratio=(1, 1)), \n",
        "#     T.ColorJitter(brightness=0.1, contrast=0.1, saturation=0.1, hue=0.1),\n",
        "    transforms.RandomHorizontalFlip(), \n",
        "    transforms.RandomRotation(45),\n",
        "    transforms.RandomVerticalFlip(),\n",
        "    transforms.ToTensor(), \n",
        "    normalize,\n",
        "    transforms.RandomErasing(inplace=True)\n",
        "])\n",
        "\n",
        "test_tf = transforms.Compose([\n",
        "    transforms.Resize(256), \n",
        "    transforms.ToTensor(), \n",
        "    normalize\n",
        "])"
      ],
      "execution_count": null,
      "outputs": []
    },
    {
      "cell_type": "code",
      "metadata": {
        "trusted": true,
        "id": "tUXykrvbmiqP"
      },
      "source": [
        "val_pct = 0.1"
      ],
      "execution_count": null,
      "outputs": []
    },
    {
      "cell_type": "code",
      "metadata": {
        "trusted": true,
        "id": "yukiNw5VmiqR"
      },
      "source": [
        "msk = np.random.rand(len(train_df)) < (1- val_pct)"
      ],
      "execution_count": null,
      "outputs": []
    },
    {
      "cell_type": "code",
      "metadata": {
        "trusted": true,
        "id": "km0sKwfSmiqU"
      },
      "source": [
        "train_split_df = train_df[msk].reset_index()\n",
        "val_split_df = train_df[~msk].reset_index()"
      ],
      "execution_count": null,
      "outputs": []
    },
    {
      "cell_type": "code",
      "metadata": {
        "trusted": true,
        "id": "Rm73FBvFmiqX",
        "colab": {
          "base_uri": "https://localhost:8080/",
          "height": 34
        },
        "outputId": "012d70ae-d4a0-456f-ea7f-4bb03ae97116"
      },
      "source": [
        "len(train_split_df), len(val_split_df)"
      ],
      "execution_count": null,
      "outputs": [
        {
          "output_type": "execute_result",
          "data": {
            "text/plain": [
              "(17308, 1928)"
            ]
          },
          "metadata": {
            "tags": []
          },
          "execution_count": 71
        }
      ]
    },
    {
      "cell_type": "code",
      "metadata": {
        "trusted": true,
        "id": "dbbCY0eImiqa"
      },
      "source": [
        "train_ds = ProteinDataset(TRAIN_DIR, train_split_df, train_tf)\n",
        "valid_ds = ProteinDataset(TRAIN_DIR, val_split_df, test_tf)"
      ],
      "execution_count": null,
      "outputs": []
    },
    {
      "cell_type": "code",
      "metadata": {
        "trusted": true,
        "id": "tmUn6-SOmiqd"
      },
      "source": [
        "bs = 16"
      ],
      "execution_count": null,
      "outputs": []
    },
    {
      "cell_type": "code",
      "metadata": {
        "trusted": true,
        "id": "wfxwBn4mmiqf"
      },
      "source": [
        "train_loader = DataLoader(train_ds, bs, shuffle=True, num_workers=4, pin_memory=True)\n",
        "valid_loader = DataLoader(train_ds, bs*2, num_workers=4, pin_memory=True)"
      ],
      "execution_count": null,
      "outputs": []
    },
    {
      "cell_type": "code",
      "metadata": {
        "trusted": true,
        "id": "Cd8i9UnLmiqh"
      },
      "source": [
        "img, label = train_ds[0]"
      ],
      "execution_count": null,
      "outputs": []
    },
    {
      "cell_type": "code",
      "metadata": {
        "trusted": true,
        "id": "hHz1N9gnmiqk",
        "colab": {
          "base_uri": "https://localhost:8080/",
          "height": 298
        },
        "outputId": "c3ed79fb-94dc-4c5d-d65c-577fe116388a"
      },
      "source": [
        "display_img(img, label)"
      ],
      "execution_count": null,
      "outputs": [
        {
          "output_type": "stream",
          "text": [
            "Clipping input data to the valid range for imshow with RGB data ([0..1] for floats or [0..255] for integers).\n"
          ],
          "name": "stderr"
        },
        {
          "output_type": "display_data",
          "data": {
            "image/png": "[encoded data removed]",
            "text/plain": [
              "<Figure size 432x288 with 1 Axes>"
            ]
          },
          "metadata": {
            "tags": [],
            "needs_background": "light"
          }
        }
      ]
    },
    {
      "cell_type": "code",
      "metadata": {
        "trusted": true,
        "id": "Zs_fu7bMmiqm"
      },
      "source": [
        "unnorm = UnNormalize(mean, std)"
      ],
      "execution_count": null,
      "outputs": []
    },
    {
      "cell_type": "code",
      "metadata": {
        "trusted": true,
        "id": "nmggGhjmmiqp",
        "colab": {
          "base_uri": "https://localhost:8080/",
          "height": 281
        },
        "outputId": "749a3e46-7440-4083-bbcd-c5ccb8383904"
      },
      "source": [
        "display_img(img, label, unnorm=True, unnorm_obj=unnorm)"
      ],
      "execution_count": null,
      "outputs": [
        {
          "output_type": "display_data",
          "data": {
            "image/png": "[encoded data removed]",
            "text/plain": [
              "<Figure size 432x288 with 1 Axes>"
            ]
          },
          "metadata": {
            "tags": [],
            "needs_background": "light"
          }
        }
      ]
    },
    {
      "cell_type": "code",
      "metadata": {
        "trusted": true,
        "id": "WJmm3ZIzmiqr"
      },
      "source": [
        "batch = next(iter(train_loader))"
      ],
      "execution_count": null,
      "outputs": []
    },
    {
      "cell_type": "code",
      "metadata": {
        "trusted": true,
        "id": "OSv2DKwwmiqu",
        "colab": {
          "base_uri": "https://localhost:8080/",
          "height": 108
        },
        "outputId": "99792b5b-6e85-48bf-d580-26bb91e6fd04"
      },
      "source": [
        "display_batch(batch)"
      ],
      "execution_count": null,
      "outputs": [
        {
          "output_type": "stream",
          "text": [
            "Clipping input data to the valid range for imshow with RGB data ([0..1] for floats or [0..255] for integers).\n"
          ],
          "name": "stderr"
        },
        {
          "output_type": "display_data",
          "data": {
            "image/png": "[encoded data removed]",
            "text/plain": [
              "<Figure size 1152x576 with 1 Axes>"
            ]
          },
          "metadata": {
            "tags": []
          }
        }
      ]
    },
    {
      "cell_type": "markdown",
      "metadata": {
        "id": "5auqdKS0miqx"
      },
      "source": [
        "# F1 Score/Stats Function"
      ]
    },
    {
      "cell_type": "code",
      "metadata": {
        "trusted": true,
        "id": "PJ4-wnCgmiqx"
      },
      "source": [
        "def F_score(output, label, threshold=0.5, beta=1):\n",
        "    prob = output > threshold\n",
        "    label = label > threshold\n",
        "\n",
        "    TP = (prob & label).sum(1).float()\n",
        "    TN = ((~prob) & (~label)).sum(1).float()\n",
        "    FP = (prob & (~label)).sum(1).float()\n",
        "    FN = ((~prob) & label).sum(1).float()\n",
        "\n",
        "    precision = torch.mean(TP / (TP + FP + 1e-12))\n",
        "    recall = torch.mean(TP / (TP + FN + 1e-12))\n",
        "    F2 = (1 + beta**2) * precision * recall / (beta**2 * precision + recall + 1e-12)\n",
        "    return F2.mean(0)"
      ],
      "execution_count": null,
      "outputs": []
    },
    {
      "cell_type": "code",
      "metadata": {
        "trusted": true,
        "id": "wL-qafblmiq0"
      },
      "source": [
        "class AvgStats(object):\n",
        "    def __init__(self):\n",
        "        self.reset()\n",
        "        \n",
        "    def reset(self):\n",
        "        self.losses =[]\n",
        "        self.F1 =[]\n",
        "        self.its = []\n",
        "        \n",
        "    def append(self, loss, F1, it):\n",
        "        self.losses.append(loss)\n",
        "        self.F1.append(F1)\n",
        "        self.its.append(it)"
      ],
      "execution_count": null,
      "outputs": []
    },
    {
      "cell_type": "markdown",
      "metadata": {
        "id": "K9o2PG_omiq2"
      },
      "source": [
        "# CLR\n",
        "\n",
        "(Github: https://github.com/nachiket273/One_Cycle_Policy)"
      ]
    },
    {
      "cell_type": "code",
      "metadata": {
        "trusted": true,
        "id": "Z_Xp-k9Pmiq3"
      },
      "source": [
        "import math\n",
        "\n",
        "\n",
        "class CLR(object):\n",
        "    def __init__(self, optim, bn, base_lr=1e-7, max_lr=100):\n",
        "        self.base_lr = base_lr\n",
        "        self.max_lr = max_lr\n",
        "        self.optim = optim\n",
        "        self.bn = bn - 1\n",
        "        ratio = self.max_lr/self.base_lr\n",
        "        self.mult = ratio ** (1/self.bn)\n",
        "        self.best_loss = 1e9\n",
        "        self.iteration = 0\n",
        "        self.lrs = []\n",
        "        self.losses = []\n",
        "        \n",
        "    def calc_lr(self, loss):\n",
        "        self.iteration +=1\n",
        "        if math.isnan(loss) or loss > 4 * self.best_loss:\n",
        "            return -1\n",
        "        if loss < self.best_loss and self.iteration > 1:\n",
        "            self.best_loss = loss\n",
        "            \n",
        "        mult = self.mult ** self.iteration\n",
        "        lr = self.base_lr * mult\n",
        "        \n",
        "        self.lrs.append(lr)\n",
        "        self.losses.append(loss)\n",
        "        \n",
        "        return lr\n",
        "        \n",
        "    def plot(self, start=10, end=-5):\n",
        "        plt.xlabel(\"Learning Rate\")\n",
        "        plt.ylabel(\"Losses\")\n",
        "        plt.plot(self.lrs[start:end], self.losses[start:end])\n",
        "        plt.xscale('log')\n",
        "        \n",
        "        \n",
        "    def plot_lr(self):\n",
        "        plt.xlabel(\"Iterations\")\n",
        "        plt.ylabel(\"Learning Rate\")\n",
        "        plt.plot(self.lrs)\n",
        "        plt.yscale('log')"
      ],
      "execution_count": null,
      "outputs": []
    },
    {
      "cell_type": "markdown",
      "metadata": {
        "id": "gHAqZiDDmiq5"
      },
      "source": [
        "# One Cycle Policy\n",
        "\n",
        "(Github: https://github.com/nachiket273/One_Cycle_Policy)"
      ]
    },
    {
      "cell_type": "code",
      "metadata": {
        "trusted": true,
        "id": "VBpXyXeYmiq5"
      },
      "source": [
        "class OneCycle(object):\n",
        "    def __init__(self, nb, max_lr, momentum_vals=(0.95, 0.85), prcnt= 10, div=10, use_cosine=False):\n",
        "        self.nb = nb\n",
        "        self.div = div\n",
        "        self.high_lr = max_lr\n",
        "        self.low_mom = momentum_vals[1]\n",
        "        self.high_mom = momentum_vals[0]\n",
        "        self.use_cosine = use_cosine\n",
        "        if self.use_cosine:\n",
        "            self.prcnt = 0\n",
        "        else:\n",
        "            self.prcnt = prcnt\n",
        "        self.iteration = 0\n",
        "        self.lrs = []\n",
        "        self.moms = []\n",
        "        if self.use_cosine:\n",
        "            self.step_len =  int(self.nb / 4)\n",
        "        else:\n",
        "            self.step_len =  int(self.nb * (1- prcnt/100)/2)\n",
        "        \n",
        "    def calc(self):\n",
        "        if self.use_cosine:\n",
        "            lr = self.calc_lr_cosine()\n",
        "            mom = self.calc_mom_cosine()\n",
        "        else:\n",
        "            lr = self.calc_lr()\n",
        "            mom = self.calc_mom()\n",
        "        self.iteration += 1\n",
        "        return (lr, mom)\n",
        "        \n",
        "    def calc_lr(self):\n",
        "        if self.iteration ==  0:\n",
        "            self.lrs.append(self.high_lr/self.div)\n",
        "            return self.high_lr/self.div\n",
        "        elif self.iteration == self.nb:\n",
        "            self.iteration = 0\n",
        "            self.lrs.append(self.high_lr/self.div)\n",
        "            return self.high_lr/self.div\n",
        "        elif self.iteration > 2 * self.step_len:\n",
        "            ratio = (self.iteration - 2 * self.step_len) / (self.nb - 2 * self.step_len)\n",
        "            #lr = self.high_lr * ( 1 - 0.99 * ratio)/self.div\n",
        "            lr = (self.high_lr / self.div) * (1- ratio * (1 - 1/self.div))\n",
        "        elif self.iteration > self.step_len:\n",
        "            ratio = 1- (self.iteration -self.step_len)/self.step_len\n",
        "            lr = self.high_lr * (1 + ratio * (self.div - 1)) / self.div\n",
        "        else :\n",
        "            ratio = self.iteration/self.step_len\n",
        "            lr = self.high_lr * (1 + ratio * (self.div - 1)) / self.div\n",
        "        self.lrs.append(lr)\n",
        "        return lr\n",
        "\n",
        "    def calc_mom(self):\n",
        "        if self.iteration == 0:\n",
        "            self.moms.append(self.high_mom)\n",
        "            return self.high_mom\n",
        "        elif self.iteration == self.nb:\n",
        "            self.iteration = 0\n",
        "            self.moms.append(self.high_mom)\n",
        "            return self.high_mom\n",
        "        elif self.iteration > 2 * self.step_len:\n",
        "            mom = self.high_mom\n",
        "        elif self.iteration > self.step_len:\n",
        "            ratio = (self.iteration -self.step_len)/self.step_len\n",
        "            mom = self.low_mom + ratio * (self.high_mom - self.low_mom)\n",
        "        else :\n",
        "            ratio = self.iteration/self.step_len\n",
        "            mom = self.high_mom - ratio * (self.high_mom - self.low_mom)\n",
        "        self.moms.append(mom)\n",
        "        return mom\n",
        "\n",
        "    def calc_lr_cosine(self):\n",
        "        if self.iteration ==  0:\n",
        "            self.lrs.append(self.high_lr/self.div)\n",
        "            return self.high_lr/self.div\n",
        "        elif self.iteration == self.nb:\n",
        "            self.iteration = 0\n",
        "            self.lrs.append(self.high_lr/self.div)\n",
        "            return self.high_lr/self.div\n",
        "        elif self.iteration > self.step_len:\n",
        "            ratio = (self.iteration -self.step_len)/(self.nb - self.step_len)\n",
        "            lr = (self.high_lr/self.div) + 0.5 * (self.high_lr - self.high_lr/self.div) * (1 + math.cos(math.pi * ratio))\n",
        "        else :\n",
        "            ratio = self.iteration/self.step_len\n",
        "            lr = self.high_lr - 0.5 * (self.high_lr - self.high_lr/self.div) * (1 + math.cos(math.pi * ratio))\n",
        "        self.lrs.append(lr)\n",
        "        return lr\n",
        "\n",
        "    def calc_mom_cosine(self):\n",
        "        if self.iteration == 0:\n",
        "            self.moms.append(self.high_mom)\n",
        "            return self.high_mom\n",
        "        elif self.iteration == self.nb:\n",
        "            self.iteration = 0\n",
        "            self.moms.append(self.high_mom)\n",
        "            return self.high_mom\n",
        "        elif self.iteration > self.step_len:\n",
        "            ratio = (self.iteration -self.step_len)/(self.nb - self.step_len)\n",
        "            mom = self.high_mom - 0.5 * (self.high_mom - self.low_mom) * (1 + math.cos(math.pi * ratio))\n",
        "        else :\n",
        "            ratio = self.iteration/self.step_len\n",
        "            mom = self.low_mom + 0.5 * (self.high_mom - self.low_mom) * (1 + math.cos(math.pi * ratio))\n",
        "        self.moms.append(mom)\n",
        "        return mom"
      ],
      "execution_count": null,
      "outputs": []
    },
    {
      "cell_type": "markdown",
      "metadata": {
        "id": "PcihbTwBmiq8"
      },
      "source": [
        "# Save and load checkpoint"
      ]
    },
    {
      "cell_type": "code",
      "metadata": {
        "trusted": true,
        "id": "SO5d54aAmiq8"
      },
      "source": [
        "def save_checkpoint(model, is_best, filename='data/checkpoint.pth'):\n",
        "    \"\"\"Save checkpoint if a new best is achieved\"\"\"\n",
        "    if is_best:\n",
        "        torch.save(model.state_dict(), filename)  # save checkpoint\n",
        "    else:\n",
        "        print (\"=> Validation Accuracy did not improve\")"
      ],
      "execution_count": null,
      "outputs": []
    },
    {
      "cell_type": "code",
      "metadata": {
        "trusted": true,
        "id": "XGFEeS1wmiq_"
      },
      "source": [
        "def load_checkpoint(model, filename = 'data/checkpoint.pth'):\n",
        "    sd = torch.load(filename, map_location=lambda storage, loc: storage)\n",
        "    names = set(model.state_dict().keys())\n",
        "    for n in list(sd.keys()):\n",
        "        if n not in names and n+'_raw' in names:\n",
        "            if n+'_raw' not in sd: sd[n+'_raw'] = sd[n]\n",
        "            del sd[n]\n",
        "    model.load_state_dict(sd)"
      ],
      "execution_count": null,
      "outputs": []
    },
    {
      "cell_type": "markdown",
      "metadata": {
        "id": "67yFEUcMmirB"
      },
      "source": [
        "# AdaptiveConcatPool and custom classifier"
      ]
    },
    {
      "cell_type": "code",
      "metadata": {
        "trusted": true,
        "id": "JZGMDBbBmirB"
      },
      "source": [
        "class AdaptiveConcatPool2d(nn.Module):\n",
        "    def __init__(self, sz=1):\n",
        "        super().__init__()\n",
        "        self.adavgp = nn.AdaptiveAvgPool2d(sz)\n",
        "        self.adamaxp = nn.AdaptiveMaxPool2d(sz)\n",
        "        \n",
        "    def forward(self, x):\n",
        "        x = torch.cat([self.adavgp(x), self.adamaxp(x)], 1)\n",
        "        x = x.view(x.size(0),-1)\n",
        "        return x"
      ],
      "execution_count": null,
      "outputs": []
    },
    {
      "cell_type": "code",
      "metadata": {
        "trusted": true,
        "id": "g-jaHGR4mirD"
      },
      "source": [
        "class CustomClassifier(nn.Module):\n",
        "    def __init__(self, in_features, intermed_bn= 512, out_features=10, dout=0.25):\n",
        "        super().__init__()\n",
        "        self.fc_bn0 = nn.BatchNorm1d(in_features)\n",
        "        self.dropout0 = nn.Dropout(dout)\n",
        "        self.fc0 = nn.Linear(in_features, intermed_bn, bias=True)\n",
        "        self.fc_bn1 = nn.BatchNorm1d(intermed_bn, momentum=0.01)\n",
        "        self.dropout1 = nn.Dropout(dout * 2)\n",
        "        self.fc1 = nn.Linear(intermed_bn, out_features, bias=True)\n",
        "        \n",
        "    def forward(self, x):\n",
        "        x = self.fc_bn0(x)\n",
        "        x = self.dropout0(x)\n",
        "        x = F.relu(self.fc0(x))\n",
        "        x = self.fc_bn1(x)\n",
        "        x = self.dropout1(x)\n",
        "        x = self.fc1(x)\n",
        "        return x"
      ],
      "execution_count": null,
      "outputs": []
    },
    {
      "cell_type": "markdown",
      "metadata": {
        "id": "cxraTY7RmirG"
      },
      "source": [
        "# Set optimizer/loss and find lr"
      ]
    },
    {
      "cell_type": "code",
      "metadata": {
        "trusted": true,
        "id": "lY1plWV_mirH"
      },
      "source": [
        "def update_lr(optimizer, lr):\n",
        "    for g in optimizer.param_groups:\n",
        "        g['lr'] = lr"
      ],
      "execution_count": null,
      "outputs": []
    },
    {
      "cell_type": "code",
      "metadata": {
        "trusted": true,
        "id": "u35Pa00KmirK"
      },
      "source": [
        "def update_mom(optimizer, mom):\n",
        "    for g in optimizer.param_groups:\n",
        "        g['momentum'] = mom"
      ],
      "execution_count": null,
      "outputs": []
    },
    {
      "cell_type": "code",
      "metadata": {
        "trusted": true,
        "id": "OcdXX-BLmirM"
      },
      "source": [
        "def find_lr(model, loader, device):\n",
        "    t = tqdm(loader, leave=False, total=len(loader))\n",
        "    running_loss = 0.\n",
        "    avg_beta = 0.98\n",
        "    model.train()\n",
        "    for i, (ip, tgt) in enumerate(t):\n",
        "        ip, tgt = ip.to(device), tgt.to(device)\n",
        "        output = torch.sigmoid(model(ip))\n",
        "        loss = criterion(output, tgt)\n",
        "\n",
        "        running_loss = avg_beta * running_loss + (1-avg_beta) *loss.item()\n",
        "        smoothed_loss = running_loss / (1 - avg_beta**(i+1))\n",
        "        t.set_postfix(loss=smoothed_loss)\n",
        "\n",
        "        lr = clr.calc_lr(smoothed_loss)\n",
        "        if lr == -1 :\n",
        "            break\n",
        "        update_lr(optimizer, lr)   \n",
        "\n",
        "        # compute gradient and do SGD step\n",
        "        optimizer.zero_grad()\n",
        "        loss.backward()\n",
        "        optimizer.step()"
      ],
      "execution_count": null,
      "outputs": []
    },
    {
      "cell_type": "code",
      "metadata": {
        "id": "LIazeJB1rlpH"
      },
      "source": [
        "model = 0"
      ],
      "execution_count": null,
      "outputs": []
    },
    {
      "cell_type": "code",
      "metadata": {
        "trusted": true,
        "id": "5kEMVRPdmirN"
      },
      "source": [
        "model = models.resnet18(pretrained=True)"
      ],
      "execution_count": null,
      "outputs": []
    },
    {
      "cell_type": "code",
      "metadata": {
        "trusted": true,
        "id": "CkKmy8BQmirP"
      },
      "source": [
        "# model.avgpool = AdaptiveConcatPool2d()\n",
        "# model.fc = CustomClassifier(in_features=1024, out_features=10)\n",
        "# load_checkpoint(model, './0.785-z2Gans.pth')"
      ],
      "execution_count": null,
      "outputs": []
    },
    {
      "cell_type": "code",
      "metadata": {
        "id": "9s4Am2kSIKdD",
        "colab": {
          "base_uri": "https://localhost:8080/",
          "height": 34
        },
        "outputId": "09f97c37-ff54-4302-b626-233a0f739dff"
      },
      "source": [
        "import gc \n",
        "\n",
        "# Your code with pytorch using GPU\n",
        "\n",
        "gc.collect() "
      ],
      "execution_count": null,
      "outputs": [
        {
          "output_type": "execute_result",
          "data": {
            "text/plain": [
              "6421"
            ]
          },
          "metadata": {
            "tags": []
          },
          "execution_count": 95
        }
      ]
    },
    {
      "cell_type": "code",
      "metadata": {
        "trusted": true,
        "id": "rol9dUUCmirR"
      },
      "source": [
        "for param in model.parameters():\n",
        "    param.require_grad = False\n",
        "    \n",
        "model = model.to(device)"
      ],
      "execution_count": null,
      "outputs": []
    },
    {
      "cell_type": "code",
      "metadata": {
        "trusted": true,
        "id": "zmarrBmFmirS"
      },
      "source": [
        "criterion = nn.BCELoss()"
      ],
      "execution_count": null,
      "outputs": []
    },
    {
      "cell_type": "code",
      "metadata": {
        "trusted": true,
        "id": "dRmN6fqJmirU"
      },
      "source": [
        "optimizer = torch.optim.SGD(model.parameters(), lr=1e-2, momentum=0.9)"
      ],
      "execution_count": null,
      "outputs": []
    },
    {
      "cell_type": "code",
      "metadata": {
        "trusted": true,
        "id": "T0MbSWKomirX"
      },
      "source": [
        "save_checkpoint(model, True, 'init.pth')"
      ],
      "execution_count": null,
      "outputs": []
    },
    {
      "cell_type": "code",
      "metadata": {
        "trusted": true,
        "id": "ljclWQUmmirb"
      },
      "source": [
        "clr = CLR(optimizer, len(train_loader))"
      ],
      "execution_count": null,
      "outputs": []
    },
    {
      "cell_type": "code",
      "metadata": {
        "trusted": true,
        "id": "mY4x4tDHmire",
        "colab": {
          "base_uri": "https://localhost:8080/",
          "height": 392,
          "referenced_widgets": [
            "22757098c4ed4bf58b08eb47af966eb2",
            "2ce04b872e144ea08b3360b188e12f49",
            "15fba682b4eb4ba88fb07c166f07db5c",
            "d9982441556f4797a9bc3b30ad067ad1",
            "49bdba49399442a282740008bc158b18",
            "f08bd7c9c52b4463ac9d2ceb1e8b8538",
            "0a46f414af86469fbcf81670fc280f64",
            "e4f982b4b8454a2e96669824a277f3ab"
          ]
        },
        "outputId": "96d6eb03-34d6-468d-e138-0724c699fa91"
      },
      "source": [
        "find_lr(model, train_loader, device)"
      ],
      "execution_count": null,
      "outputs": [
        {
          "output_type": "display_data",
          "data": {
            "application/vnd.jupyter.widget-view+json": {
              "model_id": "22757098c4ed4bf58b08eb47af966eb2",
              "version_minor": 0,
              "version_major": 2
            },
            "text/plain": [
              "HBox(children=(FloatProgress(value=0.0, max=1082.0), HTML(value='')))"
            ]
          },
          "metadata": {
            "tags": []
          }
        },
        {
          "output_type": "stream",
          "text": [
            "/usr/local/lib/python3.6/dist-packages/torch/nn/modules/loss.py:516: UserWarning: Using a target size (torch.Size([16, 10])) that is different to the input size (torch.Size([16, 1000])) is deprecated. Please ensure they have the same size.\n",
            "  return F.binary_cross_entropy(input, target, weight=self.weight, reduction=self.reduction)\n"
          ],
          "name": "stderr"
        },
        {
          "output_type": "error",
          "ename": "ValueError",
          "evalue": "ignored",
          "traceback": [
            "\u001b[0;31m---------------------------------------------------------------------------\u001b[0m",
            "\u001b[0;31mValueError\u001b[0m                                Traceback (most recent call last)",
            "\u001b[0;32m<ipython-input-101-f42913547ccb>\u001b[0m in \u001b[0;36m<module>\u001b[0;34m()\u001b[0m\n\u001b[0;32m----> 1\u001b[0;31m \u001b[0mfind_lr\u001b[0m\u001b[0;34m(\u001b[0m\u001b[0mmodel\u001b[0m\u001b[0;34m,\u001b[0m \u001b[0mtrain_loader\u001b[0m\u001b[0;34m,\u001b[0m \u001b[0mdevice\u001b[0m\u001b[0;34m)\u001b[0m\u001b[0;34m\u001b[0m\u001b[0;34m\u001b[0m\u001b[0m\n\u001b[0m",
            "\u001b[0;32m<ipython-input-91-2acf10b2eece>\u001b[0m in \u001b[0;36mfind_lr\u001b[0;34m(model, loader, device)\u001b[0m\n\u001b[1;32m      7\u001b[0m         \u001b[0mip\u001b[0m\u001b[0;34m,\u001b[0m \u001b[0mtgt\u001b[0m \u001b[0;34m=\u001b[0m \u001b[0mip\u001b[0m\u001b[0;34m.\u001b[0m\u001b[0mto\u001b[0m\u001b[0;34m(\u001b[0m\u001b[0mdevice\u001b[0m\u001b[0;34m)\u001b[0m\u001b[0;34m,\u001b[0m \u001b[0mtgt\u001b[0m\u001b[0;34m.\u001b[0m\u001b[0mto\u001b[0m\u001b[0;34m(\u001b[0m\u001b[0mdevice\u001b[0m\u001b[0;34m)\u001b[0m\u001b[0;34m\u001b[0m\u001b[0;34m\u001b[0m\u001b[0m\n\u001b[1;32m      8\u001b[0m         \u001b[0moutput\u001b[0m \u001b[0;34m=\u001b[0m \u001b[0mtorch\u001b[0m\u001b[0;34m.\u001b[0m\u001b[0msigmoid\u001b[0m\u001b[0;34m(\u001b[0m\u001b[0mmodel\u001b[0m\u001b[0;34m(\u001b[0m\u001b[0mip\u001b[0m\u001b[0;34m)\u001b[0m\u001b[0;34m)\u001b[0m\u001b[0;34m\u001b[0m\u001b[0;34m\u001b[0m\u001b[0m\n\u001b[0;32m----> 9\u001b[0;31m         \u001b[0mloss\u001b[0m \u001b[0;34m=\u001b[0m \u001b[0mcriterion\u001b[0m\u001b[0;34m(\u001b[0m\u001b[0moutput\u001b[0m\u001b[0;34m,\u001b[0m \u001b[0mtgt\u001b[0m\u001b[0;34m)\u001b[0m\u001b[0;34m\u001b[0m\u001b[0;34m\u001b[0m\u001b[0m\n\u001b[0m\u001b[1;32m     10\u001b[0m \u001b[0;34m\u001b[0m\u001b[0m\n\u001b[1;32m     11\u001b[0m         \u001b[0mrunning_loss\u001b[0m \u001b[0;34m=\u001b[0m \u001b[0mavg_beta\u001b[0m \u001b[0;34m*\u001b[0m \u001b[0mrunning_loss\u001b[0m \u001b[0;34m+\u001b[0m \u001b[0;34m(\u001b[0m\u001b[0;36m1\u001b[0m\u001b[0;34m-\u001b[0m\u001b[0mavg_beta\u001b[0m\u001b[0;34m)\u001b[0m \u001b[0;34m*\u001b[0m\u001b[0mloss\u001b[0m\u001b[0;34m.\u001b[0m\u001b[0mitem\u001b[0m\u001b[0;34m(\u001b[0m\u001b[0;34m)\u001b[0m\u001b[0;34m\u001b[0m\u001b[0;34m\u001b[0m\u001b[0m\n",
            "\u001b[0;32m/usr/local/lib/python3.6/dist-packages/torch/nn/modules/module.py\u001b[0m in \u001b[0;36m__call__\u001b[0;34m(self, *input, **kwargs)\u001b[0m\n\u001b[1;32m    548\u001b[0m             \u001b[0mresult\u001b[0m \u001b[0;34m=\u001b[0m \u001b[0mself\u001b[0m\u001b[0;34m.\u001b[0m\u001b[0m_slow_forward\u001b[0m\u001b[0;34m(\u001b[0m\u001b[0;34m*\u001b[0m\u001b[0minput\u001b[0m\u001b[0;34m,\u001b[0m \u001b[0;34m**\u001b[0m\u001b[0mkwargs\u001b[0m\u001b[0;34m)\u001b[0m\u001b[0;34m\u001b[0m\u001b[0;34m\u001b[0m\u001b[0m\n\u001b[1;32m    549\u001b[0m         \u001b[0;32melse\u001b[0m\u001b[0;34m:\u001b[0m\u001b[0;34m\u001b[0m\u001b[0;34m\u001b[0m\u001b[0m\n\u001b[0;32m--> 550\u001b[0;31m             \u001b[0mresult\u001b[0m \u001b[0;34m=\u001b[0m \u001b[0mself\u001b[0m\u001b[0;34m.\u001b[0m\u001b[0mforward\u001b[0m\u001b[0;34m(\u001b[0m\u001b[0;34m*\u001b[0m\u001b[0minput\u001b[0m\u001b[0;34m,\u001b[0m \u001b[0;34m**\u001b[0m\u001b[0mkwargs\u001b[0m\u001b[0;34m)\u001b[0m\u001b[0;34m\u001b[0m\u001b[0;34m\u001b[0m\u001b[0m\n\u001b[0m\u001b[1;32m    551\u001b[0m         \u001b[0;32mfor\u001b[0m \u001b[0mhook\u001b[0m \u001b[0;32min\u001b[0m \u001b[0mself\u001b[0m\u001b[0;34m.\u001b[0m\u001b[0m_forward_hooks\u001b[0m\u001b[0;34m.\u001b[0m\u001b[0mvalues\u001b[0m\u001b[0;34m(\u001b[0m\u001b[0;34m)\u001b[0m\u001b[0;34m:\u001b[0m\u001b[0;34m\u001b[0m\u001b[0;34m\u001b[0m\u001b[0m\n\u001b[1;32m    552\u001b[0m             \u001b[0mhook_result\u001b[0m \u001b[0;34m=\u001b[0m \u001b[0mhook\u001b[0m\u001b[0;34m(\u001b[0m\u001b[0mself\u001b[0m\u001b[0;34m,\u001b[0m \u001b[0minput\u001b[0m\u001b[0;34m,\u001b[0m \u001b[0mresult\u001b[0m\u001b[0;34m)\u001b[0m\u001b[0;34m\u001b[0m\u001b[0;34m\u001b[0m\u001b[0m\n",
            "\u001b[0;32m/usr/local/lib/python3.6/dist-packages/torch/nn/modules/loss.py\u001b[0m in \u001b[0;36mforward\u001b[0;34m(self, input, target)\u001b[0m\n\u001b[1;32m    514\u001b[0m \u001b[0;34m\u001b[0m\u001b[0m\n\u001b[1;32m    515\u001b[0m     \u001b[0;32mdef\u001b[0m \u001b[0mforward\u001b[0m\u001b[0;34m(\u001b[0m\u001b[0mself\u001b[0m\u001b[0;34m,\u001b[0m \u001b[0minput\u001b[0m\u001b[0;34m,\u001b[0m \u001b[0mtarget\u001b[0m\u001b[0;34m)\u001b[0m\u001b[0;34m:\u001b[0m\u001b[0;34m\u001b[0m\u001b[0;34m\u001b[0m\u001b[0m\n\u001b[0;32m--> 516\u001b[0;31m         \u001b[0;32mreturn\u001b[0m \u001b[0mF\u001b[0m\u001b[0;34m.\u001b[0m\u001b[0mbinary_cross_entropy\u001b[0m\u001b[0;34m(\u001b[0m\u001b[0minput\u001b[0m\u001b[0;34m,\u001b[0m \u001b[0mtarget\u001b[0m\u001b[0;34m,\u001b[0m \u001b[0mweight\u001b[0m\u001b[0;34m=\u001b[0m\u001b[0mself\u001b[0m\u001b[0;34m.\u001b[0m\u001b[0mweight\u001b[0m\u001b[0;34m,\u001b[0m \u001b[0mreduction\u001b[0m\u001b[0;34m=\u001b[0m\u001b[0mself\u001b[0m\u001b[0;34m.\u001b[0m\u001b[0mreduction\u001b[0m\u001b[0;34m)\u001b[0m\u001b[0;34m\u001b[0m\u001b[0;34m\u001b[0m\u001b[0m\n\u001b[0m\u001b[1;32m    517\u001b[0m \u001b[0;34m\u001b[0m\u001b[0m\n\u001b[1;32m    518\u001b[0m \u001b[0;34m\u001b[0m\u001b[0m\n",
            "\u001b[0;32m/usr/local/lib/python3.6/dist-packages/torch/nn/functional.py\u001b[0m in \u001b[0;36mbinary_cross_entropy\u001b[0;34m(input, target, weight, size_average, reduce, reduction)\u001b[0m\n\u001b[1;32m   2370\u001b[0m     \u001b[0;32mif\u001b[0m \u001b[0minput\u001b[0m\u001b[0;34m.\u001b[0m\u001b[0mnumel\u001b[0m\u001b[0;34m(\u001b[0m\u001b[0;34m)\u001b[0m \u001b[0;34m!=\u001b[0m \u001b[0mtarget\u001b[0m\u001b[0;34m.\u001b[0m\u001b[0mnumel\u001b[0m\u001b[0;34m(\u001b[0m\u001b[0;34m)\u001b[0m\u001b[0;34m:\u001b[0m\u001b[0;34m\u001b[0m\u001b[0;34m\u001b[0m\u001b[0m\n\u001b[1;32m   2371\u001b[0m         raise ValueError(\"Target and input must have the same number of elements. target nelement ({}) \"\n\u001b[0;32m-> 2372\u001b[0;31m                          \"!= input nelement ({})\".format(target.numel(), input.numel()))\n\u001b[0m\u001b[1;32m   2373\u001b[0m \u001b[0;34m\u001b[0m\u001b[0m\n\u001b[1;32m   2374\u001b[0m     \u001b[0;32mif\u001b[0m \u001b[0mweight\u001b[0m \u001b[0;32mis\u001b[0m \u001b[0;32mnot\u001b[0m \u001b[0;32mNone\u001b[0m\u001b[0;34m:\u001b[0m\u001b[0;34m\u001b[0m\u001b[0;34m\u001b[0m\u001b[0m\n",
            "\u001b[0;31mValueError\u001b[0m: Target and input must have the same number of elements. target nelement (160) != input nelement (16000)"
          ]
        }
      ]
    },
    {
      "cell_type": "code",
      "metadata": {
        "trusted": true,
        "id": "CSSsua5xmirg"
      },
      "source": [
        "clr.plot()"
      ],
      "execution_count": null,
      "outputs": []
    },
    {
      "cell_type": "code",
      "metadata": {
        "id": "MHVDwt558fg4"
      },
      "source": [
        "model.fc.state_dict"
      ],
      "execution_count": null,
      "outputs": []
    },
    {
      "cell_type": "markdown",
      "metadata": {
        "id": "Tzgz4AW_mirj"
      },
      "source": [
        "# Train and Test"
      ]
    },
    {
      "cell_type": "code",
      "metadata": {
        "trusted": true,
        "id": "d-DJQm45mirk"
      },
      "source": [
        "def train(epoch, model, optimizer, use_cycle=False, onecycle=None):\n",
        "    model.train()\n",
        "    global trn_F1, trn_losses, trn_time\n",
        "    running_loss = 0.\n",
        "    running_F1 = 0.\n",
        "    \n",
        "    start_time = time.time()\n",
        "    \n",
        "    t = tqdm(train_loader, leave=False, total=len(train_loader))\n",
        "\n",
        "    for i, (ip, tgt) in enumerate(t):\n",
        "        ip, tgt = ip.to(device), tgt.to(device)\n",
        "        \n",
        "        if use_cycle:    \n",
        "            lr, mom = onecycle.calc()\n",
        "            update_lr(optimizer, lr)\n",
        "            update_mom(optimizer, mom)\n",
        "                                    \n",
        "        output = torch.sigmoid(model(ip))\n",
        "        loss = criterion(output, tgt)\n",
        "        running_loss += loss.item()\n",
        "            \n",
        "        # Append outputs\n",
        "        running_F1 += F_score(tgt, output)\n",
        "        \n",
        "        # compute gradient and do SGD step\n",
        "        optimizer.zero_grad()\n",
        "        loss.backward()\n",
        "        optimizer.step()\n",
        "        \n",
        "    trn_time = time.time() - start_time        \n",
        "    trn_F1 = running_F1/len(train_loader)\n",
        "    trn_losses = running_loss/len(train_loader)"
      ],
      "execution_count": null,
      "outputs": []
    },
    {
      "cell_type": "code",
      "metadata": {
        "trusted": true,
        "id": "2iVf8ahgmirl"
      },
      "source": [
        "def test(model):\n",
        "    with torch.no_grad():\n",
        "        model.eval()\n",
        "        global best_F1\n",
        "        global val_F1, val_losses, val_time\n",
        "        running_loss = 0.\n",
        "        running_F1 = 0.\n",
        "        start_time = time.time()\n",
        "        \n",
        "        t = tqdm(valid_loader, leave=False, total=len(valid_loader))\n",
        "        \n",
        "        for i, (ip, tgt) in enumerate(t):\n",
        "            ip, tgt = ip.to(device), tgt.to(device)\n",
        "            output = torch.sigmoid(model(ip))\n",
        "            loss = criterion(output, tgt)\n",
        "            running_loss += loss.item()\n",
        "            running_F1 += F_score(tgt, output)\n",
        "            \n",
        "        val_time = time.time() - start_time\n",
        "        F1_score = running_F1/len(valid_loader)\n",
        "        if F1_score > best_F1:\n",
        "            best_F1 = F1_score\n",
        "            save_checkpoint(model, True, './best_model.pth')\n",
        "            \n",
        "        val_F1 = F1_score\n",
        "        val_losses = running_loss/len(valid_loader)"
      ],
      "execution_count": null,
      "outputs": []
    },
    {
      "cell_type": "code",
      "metadata": {
        "trusted": true,
        "id": "xHnXtquymirn"
      },
      "source": [
        "train_stats = AvgStats()\n",
        "test_stats = AvgStats()"
      ],
      "execution_count": null,
      "outputs": []
    },
    {
      "cell_type": "code",
      "metadata": {
        "trusted": true,
        "id": "Isw1tXAumirp"
      },
      "source": [
        "best_F1 = 0\n",
        "trn_time = 0\n",
        "trn_losses = 0.0\n",
        "trn_F1 = 0.0\n",
        "val_losses = 0.0\n",
        "val_F1 = 0.0\n",
        "val_time = 0"
      ],
      "execution_count": null,
      "outputs": []
    },
    {
      "cell_type": "code",
      "metadata": {
        "trusted": true,
        "id": "W29dlI6Imirs"
      },
      "source": [
        "def fit(model, optimizer, epochs, sched=None, use_cycle=False, onecycle=None):\n",
        "    print(\"Epoch\\tTrn_loss\\tVal_loss\\tTrn_F1\\t\\tVal_F1\")\n",
        "    for j in range(epochs):\n",
        "        train(j, model, optimizer, use_cycle=use_cycle, onecycle=onecycle)\n",
        "        train_stats.append(trn_losses, trn_F1, trn_time)\n",
        "        test(model)\n",
        "        test_stats.append(val_losses, val_F1, val_time)\n",
        "        if sched:\n",
        "            sched.step()\n",
        "        print(\"{}\\t{:06.8f}\\t{:06.8f}\\t{:06.8f}\\t{:06.8f}\"\n",
        "              .format(j+1, trn_losses, val_losses, trn_F1, val_F1))"
      ],
      "execution_count": null,
      "outputs": []
    },
    {
      "cell_type": "code",
      "metadata": {
        "id": "eWt1aNjWvIjQ"
      },
      "source": [
        "for param in model.parameters():\n",
        "            param.require_grad = False\n",
        "for param in model.fc.parameters():\n",
        "            param.require_grad = True"
      ],
      "execution_count": null,
      "outputs": []
    },
    {
      "cell_type": "code",
      "metadata": {
        "trusted": true,
        "id": "4xDCEGszmiru"
      },
      "source": [
        "epochs = 20"
      ],
      "execution_count": null,
      "outputs": []
    },
    {
      "cell_type": "code",
      "metadata": {
        "id": "I_smbCWpsVTx"
      },
      "source": [
        "load_checkpoint(model, 'init.pth')"
      ],
      "execution_count": null,
      "outputs": []
    },
    {
      "cell_type": "code",
      "metadata": {
        "trusted": true,
        "id": "BMmQbquRmir0"
      },
      "source": [
        "optimizer = torch.optim.SGD(model.parameters(), lr=1e-2, momentum=0.9)"
      ],
      "execution_count": null,
      "outputs": []
    },
    {
      "cell_type": "code",
      "metadata": {
        "trusted": true,
        "id": "Ond85Db_mir1"
      },
      "source": [
        "ocp = OneCycle(int(len(train_ds) * epochs /bs), 1e-1, use_cosine=True)"
      ],
      "execution_count": null,
      "outputs": []
    },
    {
      "cell_type": "code",
      "metadata": {
        "id": "zbEWx0jOCfJg"
      },
      "source": [
        "model.state_dict"
      ],
      "execution_count": null,
      "outputs": []
    },
    {
      "cell_type": "code",
      "metadata": {
        "trusted": true,
        "id": "K_XulULZmir2"
      },
      "source": [
        "import time"
      ],
      "execution_count": null,
      "outputs": []
    },
    {
      "cell_type": "code",
      "metadata": {
        "id": "KfvWA8u2Mlbm"
      },
      "source": [
        "import gc \n",
        "\n",
        "# Your code with pytorch using GPU\n",
        "\n",
        "gc.collect() \n"
      ],
      "execution_count": null,
      "outputs": []
    },
    {
      "cell_type": "code",
      "metadata": {
        "trusted": true,
        "id": "emHOqX6vmir3"
      },
      "source": [
        "fit(model, optimizer, epochs, use_cycle=True, onecycle=ocp)"
      ],
      "execution_count": null,
      "outputs": []
    },
    {
      "cell_type": "code",
      "metadata": {
        "trusted": true,
        "id": "7y0vC-8bmir5"
      },
      "source": [
        "plt.xlabel(\"Epochs\")\n",
        "plt.ylabel(\"Losses\")\n",
        "plt.plot(train_stats.losses, 'r', label='train')\n",
        "plt.plot(test_stats.losses, 'g', label='valid')\n",
        "plt.legend()\n",
        "plt.show()"
      ],
      "execution_count": null,
      "outputs": []
    },
    {
      "cell_type": "code",
      "metadata": {
        "trusted": true,
        "id": "udrvJZnkmir6"
      },
      "source": [
        "plt.xlabel(\"Epochs\")\n",
        "plt.ylabel(\"F1-score\")\n",
        "plt.plot(train_stats.F1, 'r', label='train')\n",
        "plt.plot(test_stats.F1, 'g', label='valid')\n",
        "plt.legend()\n",
        "plt.show()"
      ],
      "execution_count": null,
      "outputs": []
    },
    {
      "cell_type": "code",
      "metadata": {
        "trusted": true,
        "id": "yHvrQxNYmir8"
      },
      "source": [
        "def pred_single(img, return_label=True):\n",
        "    with torch.no_grad():\n",
        "        model.eval()\n",
        "        bs_img = img.unsqueeze(0)\n",
        "        bs_img = bs_img.to(device)\n",
        "        preds = torch.sigmoid(model(bs_img))\n",
        "        prediction = preds[0]\n",
        "        display_img(img, prediction, return_label)"
      ],
      "execution_count": null,
      "outputs": []
    },
    {
      "cell_type": "code",
      "metadata": {
        "trusted": true,
        "id": "oPZqTiyrmir-"
      },
      "source": [
        "TEST_CSV = '/content/submission.csv'"
      ],
      "execution_count": null,
      "outputs": []
    },
    {
      "cell_type": "code",
      "metadata": {
        "trusted": true,
        "id": "SUbW1hBimisA"
      },
      "source": [
        "test_df = pd.read_csv(TEST_CSV)"
      ],
      "execution_count": null,
      "outputs": []
    },
    {
      "cell_type": "code",
      "metadata": {
        "trusted": true,
        "id": "BWqAsCxomisC"
      },
      "source": [
        "test_ds = ProteinDataset(TEST_DIR, test_df, test_tf)"
      ],
      "execution_count": null,
      "outputs": []
    },
    {
      "cell_type": "code",
      "metadata": {
        "trusted": true,
        "id": "0mbJo6p7misD"
      },
      "source": [
        "img, label = test_ds[100]"
      ],
      "execution_count": null,
      "outputs": []
    },
    {
      "cell_type": "code",
      "metadata": {
        "trusted": true,
        "id": "3gSuuah6misF"
      },
      "source": [
        "pred_single(img)"
      ],
      "execution_count": null,
      "outputs": []
    },
    {
      "cell_type": "code",
      "metadata": {
        "trusted": true,
        "id": "N4Pd9Y2PmisG"
      },
      "source": [
        "test_loader = DataLoader(test_ds, bs, num_workers=4, pin_memory=True)"
      ],
      "execution_count": null,
      "outputs": []
    },
    {
      "cell_type": "code",
      "metadata": {
        "id": "B-AWShIqgfjY"
      },
      "source": [
        "model = 0"
      ],
      "execution_count": null,
      "outputs": []
    },
    {
      "cell_type": "code",
      "metadata": {
        "id": "DzLWaio_YIe0"
      },
      "source": [
        "# class MyEnsemble(nn.Module):\n",
        "#     def __init__(self, modelA, modelB, nb_classes=10):\n",
        "#         super(MyEnsemble, self).__init__()\n",
        "#         self.modelA = modelA\n",
        "#         self.modelB = modelB\n",
        "#         # Remove last linear layer\n",
        "#         # self.fc = CustomClassifier(in_features=modelA.fc.in_features*2, out_features=10)\n",
        "#         self.classifier = nn.Linear(1024, nb_classes)\n",
        "#         self.modelA.fc = nn.Identity()\n",
        "#         self.modelB.fc = nn.Identity()\n",
        "        \n",
        "#     def forward(self, x):\n",
        "#         x1 = self.modelA(x.clone())  # clone to make sure x is not changed by inplace methods\n",
        "#         x1 = x1.view(x1.size(0), -1)\n",
        "#         x2 = self.modelB(x)\n",
        "#         x2 = x2.view(x2.size(0), -1)\n",
        "#         x = torch.cat((x1, x2), dim=1)\n",
        "        \n",
        "#         x = self.classifier(F.relu(x))\n",
        "#         return x\n",
        "\n",
        "# # Train your separate models\n",
        "# # ...\n",
        "# # We use pretrained torchvision models here\n",
        "# modelA = models.resnet18(pretrained=True)\n",
        "# print(modelA.fc.in_features)\n",
        "# modelA.avgpool = AdaptiveConcatPool2d()\n",
        "# modelA.fc = CustomClassifier(in_features=modelA.fc.in_features*2, out_features=10)\n",
        "\n",
        "# modelB = models.resnet18(pretrained=True)\n",
        "# modelB.avgpool = AdaptiveConcatPool2d()\n",
        "# modelB.fc = CustomClassifier(in_features=modelB.fc.in_features*2, out_features=10)\n",
        "\n",
        "# load_checkpoint(modelB, './best_model.pth')\n",
        "# load_checkpoint(modelA, './0.785-z2Gans.pth')\n",
        "\n",
        "# modelA = modelA.to(device)\n",
        "# modelB = modelB.to(device)\n",
        "# # Freeze these models\n",
        "# for param in modelA.parameters():\n",
        "#     param.requires_grad_(False)\n",
        "\n",
        "# for param in modelB.parameters():\n",
        "#     param.requires_grad_(False)\n",
        "\n",
        "\n",
        "\n",
        "# # Create ensemble model\n",
        "# model = MyEnsemble(modelA, modelB)\n",
        "# model.avgpool = AdaptiveConcatPool2d()\n",
        "# model.classifier = CustomClassifier(in_features=2048, out_features=10)\n",
        "# # model.avgpool = AdaptiveConcatPool2d()\n",
        "# # model.fc = CustomClassifier(in_features=model.fc.in_features*2, out_features=10)\n",
        "# model = model.to(device)"
      ],
      "execution_count": null,
      "outputs": []
    },
    {
      "cell_type": "code",
      "metadata": {
        "trusted": true,
        "id": "bn3M6mOamisI"
      },
      "source": [
        "model = models.resnet18(pretrained=True)\n",
        "model.avgpool = AdaptiveConcatPool2d()\n",
        "model.fc = CustomClassifier(in_features=model.fc.in_features*2, out_features=10)\n",
        "model = model.to(device)\n",
        "load_checkpoint(model, './0.785-z2Gans.pth')"
      ],
      "execution_count": null,
      "outputs": []
    },
    {
      "cell_type": "code",
      "metadata": {
        "trusted": true,
        "id": "XRYeBnCimisJ"
      },
      "source": [
        "def predict(loader):\n",
        "    with torch.no_grad():\n",
        "        torch.cuda.empty_cache()\n",
        "        model.eval()\n",
        "        preds = []\n",
        "        t = tqdm(loader, leave=False, total=len(loader))\n",
        "        for i, (ip, _) in enumerate(t):\n",
        "            ip = ip.to(device)\n",
        "            output = torch.sigmoid(model(ip))\n",
        "            preds.append(output.cpu().detach())\n",
        "        preds = torch.cat(preds)\n",
        "        return [\" \".join(decode_labels(pred)) for pred in preds]"
      ],
      "execution_count": null,
      "outputs": []
    },
    {
      "cell_type": "code",
      "metadata": {
        "id": "uWAKymFN3KSd"
      },
      "source": [
        "# load_checkpoint(model, './best_model.pth')"
      ],
      "execution_count": null,
      "outputs": []
    },
    {
      "cell_type": "code",
      "metadata": {
        "trusted": true,
        "id": "cSaznnVpmisL"
      },
      "source": [
        "preds = predict(test_loader)"
      ],
      "execution_count": null,
      "outputs": []
    },
    {
      "cell_type": "code",
      "metadata": {
        "trusted": true,
        "id": "p6_Oqb-mmisN"
      },
      "source": [
        "len(preds), len(test_df)"
      ],
      "execution_count": null,
      "outputs": []
    },
    {
      "cell_type": "code",
      "metadata": {
        "trusted": true,
        "id": "Hd9X_0XFmisO"
      },
      "source": [
        "preds"
      ],
      "execution_count": null,
      "outputs": []
    },
    {
      "cell_type": "code",
      "metadata": {
        "trusted": true,
        "id": "iAqP43SZmisQ"
      },
      "source": [
        "sub_df = pd.read_csv(TEST_CSV)"
      ],
      "execution_count": null,
      "outputs": []
    },
    {
      "cell_type": "code",
      "metadata": {
        "trusted": true,
        "id": "YJ05XFgkmisS"
      },
      "source": [
        "sub_df.head()"
      ],
      "execution_count": null,
      "outputs": []
    },
    {
      "cell_type": "code",
      "metadata": {
        "trusted": true,
        "id": "he3tYQ8OmisV"
      },
      "source": [
        "sub_df['Label'] = preds"
      ],
      "execution_count": null,
      "outputs": []
    },
    {
      "cell_type": "code",
      "metadata": {
        "trusted": true,
        "id": "I2YgnVkfmisW"
      },
      "source": [
        "sub_df.head()"
      ],
      "execution_count": null,
      "outputs": []
    },
    {
      "cell_type": "code",
      "metadata": {
        "trusted": true,
        "id": "nfknI5RQmisX"
      },
      "source": [
        "sub_df.to_csv('resnet18-785-6.csv', index=False)"
      ],
      "execution_count": null,
      "outputs": []
    },
    {
      "cell_type": "code",
      "metadata": {
        "id": "SZC2Aa7eupWg"
      },
      "source": [
        "from google.colab import files\n",
        "files.download('/content/resnet18-785-6.csv') "
      ],
      "execution_count": null,
      "outputs": []
    },
    {
      "cell_type": "code",
      "metadata": {
        "id": "6lqUoenP-zmg"
      },
      "source": [
        ""
      ],
      "execution_count": null,
      "outputs": []
    }
  ]
}